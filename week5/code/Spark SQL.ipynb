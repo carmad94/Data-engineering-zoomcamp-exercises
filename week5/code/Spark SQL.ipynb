{
 "cells": [
  {
   "cell_type": "code",
   "execution_count": 1,
   "id": "2800399a",
   "metadata": {},
   "outputs": [],
   "source": [
    "import findspark\n",
    "findspark.init()\n",
    "\n",
    "from pyspark.sql import SparkSession\n",
    "\n",
    "spark = SparkSession.builder \\\n",
    "    .master(\"local[*]\") \\\n",
    "    .appName('test') \\\n",
    "    .getOrCreate()"
   ]
  },
  {
   "cell_type": "code",
   "execution_count": 2,
   "id": "9254dc1e",
   "metadata": {},
   "outputs": [],
   "source": [
    "df_green = spark.read.parquet('data/raw/green/*/*')"
   ]
  },
  {
   "cell_type": "code",
   "execution_count": 3,
   "id": "78021a65",
   "metadata": {},
   "outputs": [],
   "source": [
    "df_green = df_green \\\n",
    "    .withColumnRenamed('lpep_pickup_datetime', 'pickup_datetime') \\\n",
    "    .withColumnRenamed('lpep_dropoff_datetime', 'dropoff_datetime')"
   ]
  },
  {
   "cell_type": "code",
   "execution_count": 4,
   "id": "d5da8f3d",
   "metadata": {},
   "outputs": [],
   "source": [
    "df_yellow = spark.read.parquet('data/raw/yellow/*/*')"
   ]
  },
  {
   "cell_type": "code",
   "execution_count": 5,
   "id": "a746dd3b",
   "metadata": {},
   "outputs": [],
   "source": [
    "df_yellow = df_yellow \\\n",
    "    .withColumnRenamed('tpep_pickup_datetime', 'pickup_datetime') \\\n",
    "    .withColumnRenamed('tpep_dropoff_datetime', 'dropoff_datetime')"
   ]
  },
  {
   "cell_type": "code",
   "execution_count": 6,
   "id": "3fbb82e8",
   "metadata": {},
   "outputs": [],
   "source": [
    "common_colums = []\n",
    "\n",
    "yellow_columns = set(df_yellow.columns)\n",
    "\n",
    "for col in df_green.columns:\n",
    "    if col in yellow_columns:\n",
    "        common_colums.append(col)"
   ]
  },
  {
   "cell_type": "code",
   "execution_count": 7,
   "id": "72f20f2d",
   "metadata": {},
   "outputs": [],
   "source": [
    "from pyspark.sql import functions as F"
   ]
  },
  {
   "cell_type": "markdown",
   "id": "18b846a0",
   "metadata": {},
   "source": [
    "Select common columns and add a column with service type"
   ]
  },
  {
   "cell_type": "code",
   "execution_count": 8,
   "id": "8c9d79d2",
   "metadata": {},
   "outputs": [],
   "source": [
    "df_green_sel = df_green \\\n",
    "    .select(common_colums) \\\n",
    "    .withColumn('service_type', F.lit('green'))"
   ]
  },
  {
   "cell_type": "code",
   "execution_count": 9,
   "id": "4b9588e5",
   "metadata": {},
   "outputs": [],
   "source": [
    "df_yellow_sel = df_yellow \\\n",
    "    .select(common_colums) \\\n",
    "    .withColumn('service_type', F.lit('yellow'))"
   ]
  },
  {
   "cell_type": "code",
   "execution_count": 10,
   "id": "af6e5c6d",
   "metadata": {},
   "outputs": [],
   "source": [
    "df_trips_data = df_green_sel.unionAll(df_yellow_sel)"
   ]
  },
  {
   "cell_type": "code",
   "execution_count": 14,
   "id": "58642343",
   "metadata": {},
   "outputs": [
    {
     "name": "stdout",
     "output_type": "stream",
     "text": [
      "+------------+--------+\n",
      "|service_type|   count|\n",
      "+------------+--------+\n",
      "|       green| 2802931|\n",
      "|      yellow|55553400|\n",
      "+------------+--------+\n",
      "\n"
     ]
    }
   ],
   "source": [
    "df_trips_data.groupBy('service_type').count().show()"
   ]
  },
  {
   "cell_type": "code",
   "execution_count": 11,
   "id": "764e19de",
   "metadata": {},
   "outputs": [],
   "source": [
    "df_trips_data.registerTempTable('trips_data')"
   ]
  },
  {
   "cell_type": "code",
   "execution_count": 12,
   "id": "08d5388a",
   "metadata": {},
   "outputs": [
    {
     "name": "stdout",
     "output_type": "stream",
     "text": [
      "+------------+--------+\n",
      "|service_type|count(1)|\n",
      "+------------+--------+\n",
      "|       green| 2802931|\n",
      "|      yellow|55553400|\n",
      "+------------+--------+\n",
      "\n"
     ]
    }
   ],
   "source": [
    "spark.sql(\"\"\"\n",
    "SELECT\n",
    "    service_type,\n",
    "    count(1)\n",
    "FROM\n",
    "    trips_data\n",
    "GROUP BY \n",
    "    service_type\n",
    "\"\"\").show()"
   ]
  },
  {
   "cell_type": "code",
   "execution_count": 13,
   "id": "877cc50a",
   "metadata": {},
   "outputs": [],
   "source": [
    "df_result = spark.sql(\"\"\"\n",
    "SELECT \n",
    "    -- Reveneue grouping \n",
    "    PULocationID AS revenue_zone,\n",
    "    date_trunc('month', pickup_datetime) AS revenue_month, \n",
    "    service_type, \n",
    "\n",
    "    -- Revenue calculation \n",
    "    SUM(fare_amount) AS revenue_monthly_fare,\n",
    "    SUM(extra) AS revenue_monthly_extra,\n",
    "    SUM(mta_tax) AS revenue_monthly_mta_tax,\n",
    "    SUM(tip_amount) AS revenue_monthly_tip_amount,\n",
    "    SUM(tolls_amount) AS revenue_monthly_tolls_amount,\n",
    "    SUM(improvement_surcharge) AS revenue_monthly_improvement_surcharge,\n",
    "    SUM(total_amount) AS revenue_monthly_total_amount,\n",
    "    SUM(congestion_surcharge) AS revenue_monthly_congestion_surcharge,\n",
    "\n",
    "    -- Additional calculations\n",
    "    AVG(passenger_count) AS avg_montly_passenger_count,\n",
    "    AVG(trip_distance) AS avg_montly_trip_distance\n",
    "FROM\n",
    "    trips_data\n",
    "GROUP BY\n",
    "    1, 2, 3\n",
    "\"\"\")"
   ]
  },
  {
   "cell_type": "code",
   "execution_count": 14,
   "id": "e8da0a4f",
   "metadata": {},
   "outputs": [
    {
     "name": "stdout",
     "output_type": "stream",
     "text": [
      "+------------+-------------------+------------+--------------------+---------------------+-----------------------+--------------------------+----------------------------+-------------------------------------+----------------------------+------------------------------------+--------------------------+------------------------+\n",
      "|revenue_zone|      revenue_month|service_type|revenue_monthly_fare|revenue_monthly_extra|revenue_monthly_mta_tax|revenue_monthly_tip_amount|revenue_monthly_tolls_amount|revenue_monthly_improvement_surcharge|revenue_monthly_total_amount|revenue_monthly_congestion_surcharge|avg_montly_passenger_count|avg_montly_trip_distance|\n",
      "+------------+-------------------+------------+--------------------+---------------------+-----------------------+--------------------------+----------------------------+-------------------------------------+----------------------------+------------------------------------+--------------------------+------------------------+\n",
      "|         225|2020-02-01 00:00:00|       green|  41630.430000000204|               3517.5|                  400.0|         368.7600000000001|           659.6800000000004|                    507.3000000000135|            47245.8699999998|                                55.0|        1.1804878048780487|       4.260065217391307|\n",
      "|          78|2020-04-01 00:00:00|       green|  2018.2300000000002|                  6.5|                   19.5|        146.45999999999998|          134.64000000000004|                    29.70000000000005|           2360.529999999999|                                 5.5|                       1.0|       68.93377358490565|\n",
      "|         237|2021-10-01 00:00:00|       green|  1643.9699999999998|   118.19999999999999|                    0.0|                       3.0|           92.34999999999998|                   14.400000000000013|          1871.9200000000008|                                 0.0|                       6.0|      488.41625000000005|\n",
      "|         251|2021-11-01 00:00:00|       green|               121.1|                  0.0|                    0.5|                       0.0|                       19.65|                                  0.6|                      141.85|                                 0.0|                       1.0|                  20.715|\n",
      "|          43|2021-12-01 00:00:00|       green|  24763.460000000006|              1407.85|                 1014.5|         4415.370000000015|           325.7000000000003|                    622.4999999999987|          36358.129999999706|                             4320.25|          1.37905604719764|       2.586397306397304|\n",
      "|         122|2021-12-01 00:00:00|       green|  2904.5699999999983|               138.05|                   22.0|                      8.86|           65.49999999999999|                    29.40000000000005|          3168.3799999999983|                                 0.0|        1.1521739130434783|       6.520918367346937|\n",
      "|         256|2022-01-01 00:00:00|       green|                14.6|                  0.0|                    0.0|                      2.98|                         0.0|                                  0.3|                       17.88|                                null|                      null|                    3.33|\n",
      "|          28|2021-09-01 00:00:00|       green|   5258.520000000001|   339.15000000000003|                   21.0|         93.86999999999999|           210.5900000000001|                   54.899999999999835|           5983.529999999998|                                 5.5|                  1.296875|        990.949679144385|\n",
      "|          94|2021-06-01 00:00:00|       green|   3468.110000000003|                262.8|                   22.5|                     72.59|          129.99999999999997|                   45.299999999999926|          4004.0499999999993|                                 0.0|        1.0784313725490196|      204.82152317880806|\n",
      "|         164|2021-06-01 00:00:00|       green|  1005.9100000000001|                83.85|                    0.0|                       0.0|           78.59999999999998|                                  9.3|                     1177.66|                                null|                      null|       9.168064516129034|\n",
      "|         260|2020-12-01 00:00:00|       green|   9233.710000000006|                84.75|                  142.5|         786.5599999999997|          146.88000000000005|                    133.7999999999993|          10604.450000000032|                               79.75|        1.3196202531645569|      4.0163938053097334|\n",
      "|          47|2020-12-01 00:00:00|       green|   8550.870000000006|                  7.0|                   22.0|         937.4200000000001|          238.68000000000012|                   109.49999999999932|           9931.470000000007|                                 5.5|        1.4230769230769231|        5.27476839237057|\n",
      "|           4|2020-09-01 00:00:00|       green|   678.2199999999999|                  0.0|                    0.0|                      60.5|          29.060000000000002|                    6.599999999999998|                      774.38|                                null|                      null|       8.200454545454546|\n",
      "|         193|2021-04-01 00:00:00|       green|   4148.409999999994|   280.09999999999997|                   64.5|        219.72999999999996|           52.96999999999999|                    80.99999999999959|           4901.710000000004|                               57.75|        1.1404255319148937|      2.2582142857142857|\n",
      "|         252|2021-04-01 00:00:00|       green|  1155.2699999999995|                58.85|                    7.0|                      20.0|                       25.34|                   10.800000000000004|                     1277.26|                                 0.0|        0.9444444444444444|       8.170750000000002|\n",
      "|         135|2021-04-01 00:00:00|       green|  4418.0599999999995|               294.15|                   22.0|        103.10000000000001|          154.19000000000003|                   47.399999999999906|           5041.649999999997|                                2.75|         1.108695652173913|       5.831257861635221|\n",
      "|          99|2021-04-01 00:00:00|       green|                96.5|                  1.0|                    0.5|                       0.0|                        6.12|                                  0.3|                      104.42|                                 0.0|                       1.0|                   31.93|\n",
      "|         158|2021-04-01 00:00:00|       green|               37.48|                 2.75|                    0.0|                       0.0|                         0.0|                                  0.3|                       40.53|                                null|                      null|                    8.14|\n",
      "|         215|2020-08-01 00:00:00|       green|            10479.23|                  2.5|                   13.5|                    689.05|           258.5400000000001|                     90.2999999999995|          11533.119999999995|                                 0.0|        1.0689655172413792|       7.503333333333328|\n",
      "|          88|2021-03-01 00:00:00|       green|              633.08|                34.25|                    1.0|                       0.0|          45.129999999999995|                    5.099999999999999|           718.5600000000002|                                 0.0|                       1.0|      12.520588235294117|\n",
      "+------------+-------------------+------------+--------------------+---------------------+-----------------------+--------------------------+----------------------------+-------------------------------------+----------------------------+------------------------------------+--------------------------+------------------------+\n",
      "only showing top 20 rows\n",
      "\n"
     ]
    }
   ],
   "source": [
    "df_result.show()"
   ]
  },
  {
   "cell_type": "code",
   "execution_count": 15,
   "id": "403a1ef7",
   "metadata": {},
   "outputs": [],
   "source": [
    "df_result.coalesce(1).write.parquet('data/report/revenue/', mode='overwrite')"
   ]
  },
  {
   "cell_type": "code",
   "execution_count": null,
   "id": "7a0aa996",
   "metadata": {},
   "outputs": [],
   "source": []
  }
 ],
 "metadata": {
  "kernelspec": {
   "display_name": "Python 3 (ipykernel)",
   "language": "python",
   "name": "python3"
  },
  "language_info": {
   "codemirror_mode": {
    "name": "ipython",
    "version": 3
   },
   "file_extension": ".py",
   "mimetype": "text/x-python",
   "name": "python",
   "nbconvert_exporter": "python",
   "pygments_lexer": "ipython3",
   "version": "3.10.4"
  }
 },
 "nbformat": 4,
 "nbformat_minor": 5
}
