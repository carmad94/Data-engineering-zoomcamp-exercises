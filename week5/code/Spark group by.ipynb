{
 "cells": [
  {
   "cell_type": "code",
   "execution_count": 1,
   "id": "0cee65ac",
   "metadata": {},
   "outputs": [],
   "source": [
    "import findspark\n",
    "findspark.init()\n",
    "\n",
    "from pyspark.sql import SparkSession\n",
    "\n",
    "spark = SparkSession.builder \\\n",
    "    .master(\"local[*]\") \\\n",
    "    .appName('test') \\\n",
    "    .getOrCreate()"
   ]
  },
  {
   "cell_type": "code",
   "execution_count": 2,
   "id": "0486c5b4",
   "metadata": {},
   "outputs": [],
   "source": [
    "df_green = spark.read.parquet('data/raw/green/*/*')"
   ]
  },
  {
   "cell_type": "code",
   "execution_count": 3,
   "id": "c86a04ab",
   "metadata": {},
   "outputs": [],
   "source": [
    "df_green.registerTempTable('green')"
   ]
  },
  {
   "cell_type": "code",
   "execution_count": 4,
   "id": "7efcf9ef",
   "metadata": {},
   "outputs": [],
   "source": [
    "df_green_revenue = spark.sql(\"\"\"\n",
    "SELECT \n",
    "    date_trunc('hour', lpep_pickup_datetime) AS hour, \n",
    "    PULocationID AS zone,\n",
    "\n",
    "    SUM(total_amount) AS amount,\n",
    "    COUNT(1) AS number_records\n",
    "FROM\n",
    "    green\n",
    "WHERE\n",
    "    lpep_pickup_datetime >= '2020-01-01 00:00:00'\n",
    "GROUP BY\n",
    "    1, 2\n",
    "ORDER BY\n",
    "    1\n",
    "\"\"\")"
   ]
  },
  {
   "cell_type": "code",
   "execution_count": 5,
   "id": "b40325e1",
   "metadata": {},
   "outputs": [
    {
     "name": "stdout",
     "output_type": "stream",
     "text": [
      "+-------------------+----+------------------+--------------+\n",
      "|               hour|zone|            amount|number_records|\n",
      "+-------------------+----+------------------+--------------+\n",
      "|2020-01-01 02:00:00| 116|             22.63|             2|\n",
      "|2020-01-01 02:00:00| 243|             15.29|             1|\n",
      "|2020-01-01 04:00:00| 223|             36.96|             1|\n",
      "|2020-01-01 06:00:00| 130|              11.8|             1|\n",
      "|2020-01-01 07:00:00|  82|              11.8|             1|\n",
      "|2020-01-01 07:00:00| 116|              6.81|             1|\n",
      "|2020-01-01 07:00:00|  42|             13.11|             1|\n",
      "|2020-01-01 07:00:00|  41|27.150000000000002|             3|\n",
      "|2020-01-01 07:00:00| 179|               7.8|             1|\n",
      "|2020-01-01 07:00:00| 168|              21.3|             1|\n",
      "|2020-01-01 07:00:00|  75|              18.3|             1|\n",
      "|2020-01-01 07:00:00| 248|              11.3|             1|\n",
      "|2020-01-01 07:00:00| 130|             29.96|             3|\n",
      "|2020-01-01 08:00:00| 134| 69.05000000000001|             6|\n",
      "|2020-01-01 08:00:00|  71|              23.8|             1|\n",
      "|2020-01-01 08:00:00|  83|              94.1|             7|\n",
      "|2020-01-01 08:00:00| 247|            117.66|             5|\n",
      "|2020-01-01 08:00:00| 112|312.26000000000005|            18|\n",
      "|2020-01-01 08:00:00| 152|58.519999999999996|             6|\n",
      "|2020-01-01 08:00:00|  70|54.900000000000006|             3|\n",
      "+-------------------+----+------------------+--------------+\n",
      "only showing top 20 rows\n",
      "\n"
     ]
    }
   ],
   "source": [
    "df_green_revenue.show()"
   ]
  },
  {
   "cell_type": "code",
   "execution_count": 6,
   "id": "a3ddeecb",
   "metadata": {},
   "outputs": [],
   "source": [
    "df_yellow = spark.read.parquet('data/raw/yellow/*/*')\n",
    "df_yellow.registerTempTable('yellow')"
   ]
  },
  {
   "cell_type": "code",
   "execution_count": 7,
   "id": "637a0820",
   "metadata": {},
   "outputs": [],
   "source": [
    "df_yellow_revenue = spark.sql(\"\"\"\n",
    "SELECT \n",
    "    date_trunc('hour', tpep_pickup_datetime) AS hour, \n",
    "    PULocationID AS zone,\n",
    "\n",
    "    SUM(total_amount) AS amount,\n",
    "    COUNT(1) AS number_records\n",
    "FROM\n",
    "    yellow\n",
    "WHERE\n",
    "    tpep_pickup_datetime >= '2020-01-01 00:00:00'\n",
    "GROUP BY\n",
    "    1, 2\n",
    "\"\"\")"
   ]
  },
  {
   "cell_type": "code",
   "execution_count": 8,
   "id": "c7dc9129",
   "metadata": {
    "scrolled": true
   },
   "outputs": [
    {
     "name": "stdout",
     "output_type": "stream",
     "text": [
      "+-------------------+----+------------------+--------------+\n",
      "|               hour|zone|            amount|number_records|\n",
      "+-------------------+----+------------------+--------------+\n",
      "|2020-01-01 09:00:00|  24| 783.8999999999999|            44|\n",
      "|2020-01-01 12:00:00| 202|              42.1|             2|\n",
      "|2020-01-01 13:00:00| 244|185.17000000000004|            17|\n",
      "|2020-01-01 13:00:00|  71|             49.71|             1|\n",
      "|2020-01-01 15:00:00|  48|           2857.21|           120|\n",
      "|2020-01-01 15:00:00| 179|            119.05|             7|\n",
      "|2020-01-01 17:00:00|  93|287.46000000000004|             4|\n",
      "|2020-01-01 18:00:00| 169|              19.1|             2|\n",
      "|2020-01-01 19:00:00| 193|            105.66|             4|\n",
      "|2020-01-01 23:00:00|  25|             14.52|             1|\n",
      "|2020-01-02 03:00:00| 196|             152.8|             2|\n",
      "|2020-01-02 05:00:00| 157|             61.42|             1|\n",
      "|2020-01-02 11:00:00| 143| 82.77999999999999|             4|\n",
      "|2020-01-02 12:00:00| 262|159.72000000000003|             6|\n",
      "|2020-01-02 16:00:00| 217|              20.3|             1|\n",
      "|2020-01-02 19:00:00| 211| 1003.139999999999|            59|\n",
      "|2020-01-02 20:00:00| 125| 797.1299999999998|            50|\n",
      "|2020-01-02 21:00:00|  50|1099.9099999999992|            70|\n",
      "|2020-01-02 21:00:00| 113| 1869.119999999998|           133|\n",
      "|2020-01-02 22:00:00| 163| 5962.800000000019|           335|\n",
      "+-------------------+----+------------------+--------------+\n",
      "only showing top 20 rows\n",
      "\n"
     ]
    }
   ],
   "source": [
    "df_yellow_revenue.show()"
   ]
  },
  {
   "cell_type": "code",
   "execution_count": 9,
   "id": "d55b09ec",
   "metadata": {},
   "outputs": [],
   "source": [
    "df_green_revenue_tmp = df_green_revenue \\\n",
    "    .withColumnRenamed('amount', 'green_amount') \\\n",
    "    .withColumnRenamed('number_records', 'green_number_records')\n",
    "\n",
    "df_yellow_revenue_tmp = df_yellow_revenue \\\n",
    "    .withColumnRenamed('amount', 'yellow_amount') \\\n",
    "    .withColumnRenamed('number_records', 'yellow_number_records')"
   ]
  },
  {
   "cell_type": "code",
   "execution_count": 10,
   "id": "2886b8bf",
   "metadata": {},
   "outputs": [],
   "source": [
    "df_join = df_green_revenue_tmp.join(df_yellow_revenue_tmp, on=['hour', 'zone'], how='outer')"
   ]
  },
  {
   "cell_type": "code",
   "execution_count": 12,
   "id": "cac70c6a",
   "metadata": {},
   "outputs": [
    {
     "name": "stdout",
     "output_type": "stream",
     "text": [
      "+-------------------+----+------------------+--------------------+------------------+---------------------+\n",
      "|               hour|zone|      green_amount|green_number_records|     yellow_amount|yellow_number_records|\n",
      "+-------------------+----+------------------+--------------------+------------------+---------------------+\n",
      "|2020-01-01 09:00:00|  24|126.41999999999999|                   6| 783.8999999999999|                   44|\n",
      "|2020-01-01 09:00:00| 242|             30.94|                   2|              null|                 null|\n",
      "|2020-01-01 12:00:00| 202|              null|                null|              42.1|                    2|\n",
      "|2020-01-01 13:00:00|  71|              null|                null|             49.71|                    1|\n",
      "|2020-01-01 13:00:00| 244|             25.26|                   2|185.17000000000004|                   17|\n",
      "|2020-01-01 15:00:00|  48|              null|                null|           2857.21|                  120|\n",
      "|2020-01-01 15:00:00| 112|             66.76|                   3|              57.3|                    1|\n",
      "|2020-01-01 15:00:00| 179|              null|                null|            119.05|                    7|\n",
      "|2020-01-01 17:00:00|  93|              null|                null|287.46000000000004|                    4|\n",
      "|2020-01-01 18:00:00| 169|              6.12|                   1|              19.1|                    2|\n",
      "|2020-01-01 19:00:00| 193|              14.3|                   2|            105.66|                    4|\n",
      "|2020-01-01 23:00:00|  25|            192.12|                  11|             14.52|                    1|\n",
      "|2020-01-02 03:00:00| 196|36.400000000000006|                   3|             152.8|                    2|\n",
      "|2020-01-02 05:00:00| 157|              null|                null|             61.42|                    1|\n",
      "|2020-01-02 11:00:00| 143|              null|                null| 82.77999999999999|                    4|\n",
      "|2020-01-02 12:00:00| 262|              null|                null|159.72000000000003|                    6|\n",
      "|2020-01-02 15:00:00| 241|176.26999999999998|                   4|             30.48|                    1|\n",
      "|2020-01-02 16:00:00| 217|              49.9|                   2|              20.3|                    1|\n",
      "|2020-01-02 18:00:00| 131|            186.32|                   8|             47.69|                    1|\n",
      "|2020-01-02 19:00:00| 211|              null|                null| 1003.139999999999|                   59|\n",
      "+-------------------+----+------------------+--------------------+------------------+---------------------+\n",
      "only showing top 20 rows\n",
      "\n"
     ]
    }
   ],
   "source": [
    "df_join.show()"
   ]
  },
  {
   "cell_type": "code",
   "execution_count": 14,
   "id": "1b6085d1",
   "metadata": {
    "scrolled": true
   },
   "outputs": [
    {
     "name": "stdout",
     "output_type": "stream",
     "text": [
      "+----------+-------------+--------------------+------------+\n",
      "|LocationID|      Borough|                Zone|service_zone|\n",
      "+----------+-------------+--------------------+------------+\n",
      "|         1|          EWR|      Newark Airport|         EWR|\n",
      "|         2|       Queens|         Jamaica Bay|   Boro Zone|\n",
      "|         3|        Bronx|Allerton/Pelham G...|   Boro Zone|\n",
      "|         4|    Manhattan|       Alphabet City| Yellow Zone|\n",
      "|         5|Staten Island|       Arden Heights|   Boro Zone|\n",
      "|         6|Staten Island|Arrochar/Fort Wad...|   Boro Zone|\n",
      "|         7|       Queens|             Astoria|   Boro Zone|\n",
      "|         8|       Queens|        Astoria Park|   Boro Zone|\n",
      "|         9|       Queens|          Auburndale|   Boro Zone|\n",
      "|        10|       Queens|        Baisley Park|   Boro Zone|\n",
      "|        11|     Brooklyn|          Bath Beach|   Boro Zone|\n",
      "|        12|    Manhattan|        Battery Park| Yellow Zone|\n",
      "|        13|    Manhattan|   Battery Park City| Yellow Zone|\n",
      "|        14|     Brooklyn|           Bay Ridge|   Boro Zone|\n",
      "|        15|       Queens|Bay Terrace/Fort ...|   Boro Zone|\n",
      "|        16|       Queens|             Bayside|   Boro Zone|\n",
      "|        17|     Brooklyn|             Bedford|   Boro Zone|\n",
      "|        18|        Bronx|        Bedford Park|   Boro Zone|\n",
      "|        19|       Queens|           Bellerose|   Boro Zone|\n",
      "|        20|        Bronx|             Belmont|   Boro Zone|\n",
      "+----------+-------------+--------------------+------------+\n",
      "only showing top 20 rows\n",
      "\n"
     ]
    }
   ],
   "source": [
    "df_zones = spark.read \\\n",
    "    .option(\"header\", \"true\") \\\n",
    "    .csv('taxi_zone_lookup.csv')\n",
    "df_zones.show()"
   ]
  },
  {
   "cell_type": "code",
   "execution_count": 15,
   "id": "a2bffdd4",
   "metadata": {
    "scrolled": true
   },
   "outputs": [
    {
     "name": "stdout",
     "output_type": "stream",
     "text": [
      "+-------------------+----+------------------+--------------------+------------------+---------------------+----------+---------+--------------------+------------+\n",
      "|               hour|zone|      green_amount|green_number_records|     yellow_amount|yellow_number_records|LocationID|  Borough|                Zone|service_zone|\n",
      "+-------------------+----+------------------+--------------------+------------------+---------------------+----------+---------+--------------------+------------+\n",
      "|2020-01-01 09:00:00|  24|126.41999999999999|                   6| 783.8999999999999|                   44|        24|Manhattan|        Bloomingdale| Yellow Zone|\n",
      "|2020-01-01 09:00:00| 242|             30.94|                   2|              null|                 null|       242|    Bronx|Van Nest/Morris Park|   Boro Zone|\n",
      "|2020-01-01 12:00:00| 202|              null|                null|              42.1|                    2|       202|Manhattan|    Roosevelt Island|   Boro Zone|\n",
      "|2020-01-01 13:00:00|  71|              null|                null|             49.71|                    1|        71| Brooklyn|East Flatbush/Far...|   Boro Zone|\n",
      "|2020-01-01 13:00:00| 244|             25.26|                   2|185.17000000000004|                   17|       244|Manhattan|Washington Height...|   Boro Zone|\n",
      "|2020-01-01 15:00:00|  48|              null|                null|           2857.21|                  120|        48|Manhattan|        Clinton East| Yellow Zone|\n",
      "|2020-01-01 15:00:00| 112|             66.76|                   3|              57.3|                    1|       112| Brooklyn|          Greenpoint|   Boro Zone|\n",
      "|2020-01-01 15:00:00| 179|              null|                null|            119.05|                    7|       179|   Queens|         Old Astoria|   Boro Zone|\n",
      "|2020-01-01 17:00:00|  93|              null|                null|287.46000000000004|                    4|        93|   Queens|Flushing Meadows-...|   Boro Zone|\n",
      "|2020-01-01 18:00:00| 169|              6.12|                   1|              19.1|                    2|       169|    Bronx|          Mount Hope|   Boro Zone|\n",
      "|2020-01-01 19:00:00| 193|              14.3|                   2|            105.66|                    4|       193|   Queens|Queensbridge/Rave...|   Boro Zone|\n",
      "|2020-01-01 23:00:00|  25|            192.12|                  11|             14.52|                    1|        25| Brooklyn|         Boerum Hill|   Boro Zone|\n",
      "|2020-01-02 03:00:00| 196|36.400000000000006|                   3|             152.8|                    2|       196|   Queens|           Rego Park|   Boro Zone|\n",
      "|2020-01-02 05:00:00| 157|              null|                null|             61.42|                    1|       157|   Queens|             Maspeth|   Boro Zone|\n",
      "|2020-01-02 11:00:00| 143|              null|                null| 82.77999999999999|                    4|       143|Manhattan| Lincoln Square West| Yellow Zone|\n",
      "|2020-01-02 12:00:00| 262|              null|                null|159.72000000000003|                    6|       262|Manhattan|      Yorkville East| Yellow Zone|\n",
      "|2020-01-02 15:00:00| 241|176.26999999999998|                   4|             30.48|                    1|       241|    Bronx|Van Cortlandt Vil...|   Boro Zone|\n",
      "|2020-01-02 16:00:00| 217|              49.9|                   2|              20.3|                    1|       217| Brooklyn|  South Williamsburg|   Boro Zone|\n",
      "|2020-01-02 18:00:00| 131|            186.32|                   8|             47.69|                    1|       131|   Queens|     Jamaica Estates|   Boro Zone|\n",
      "|2020-01-02 19:00:00| 211|              null|                null| 1003.139999999999|                   59|       211|Manhattan|                SoHo| Yellow Zone|\n",
      "+-------------------+----+------------------+--------------------+------------------+---------------------+----------+---------+--------------------+------------+\n",
      "only showing top 20 rows\n",
      "\n"
     ]
    }
   ],
   "source": [
    "df_result = df_join.join(df_zones, df_join.zone == df_zones.LocationID)\n",
    "df_result.show()"
   ]
  },
  {
   "cell_type": "code",
   "execution_count": 16,
   "id": "5de39298",
   "metadata": {},
   "outputs": [
    {
     "name": "stdout",
     "output_type": "stream",
     "text": [
      "+-------------------+------------------+--------------------+------------------+---------------------+---------+------------+\n",
      "|               hour|      green_amount|green_number_records|     yellow_amount|yellow_number_records|  Borough|service_zone|\n",
      "+-------------------+------------------+--------------------+------------------+---------------------+---------+------------+\n",
      "|2020-01-01 09:00:00|126.41999999999999|                   6| 783.8999999999999|                   44|Manhattan| Yellow Zone|\n",
      "|2020-01-01 09:00:00|             30.94|                   2|              null|                 null|    Bronx|   Boro Zone|\n",
      "|2020-01-01 12:00:00|              null|                null|              42.1|                    2|Manhattan|   Boro Zone|\n",
      "|2020-01-01 13:00:00|              null|                null|             49.71|                    1| Brooklyn|   Boro Zone|\n",
      "|2020-01-01 13:00:00|             25.26|                   2|185.17000000000004|                   17|Manhattan|   Boro Zone|\n",
      "|2020-01-01 15:00:00|              null|                null|           2857.21|                  120|Manhattan| Yellow Zone|\n",
      "|2020-01-01 15:00:00|             66.76|                   3|              57.3|                    1| Brooklyn|   Boro Zone|\n",
      "|2020-01-01 15:00:00|              null|                null|            119.05|                    7|   Queens|   Boro Zone|\n",
      "|2020-01-01 17:00:00|              null|                null|287.46000000000004|                    4|   Queens|   Boro Zone|\n",
      "|2020-01-01 18:00:00|              6.12|                   1|              19.1|                    2|    Bronx|   Boro Zone|\n",
      "|2020-01-01 19:00:00|              14.3|                   2|            105.66|                    4|   Queens|   Boro Zone|\n",
      "|2020-01-01 23:00:00|            192.12|                  11|             14.52|                    1| Brooklyn|   Boro Zone|\n",
      "|2020-01-02 03:00:00|36.400000000000006|                   3|             152.8|                    2|   Queens|   Boro Zone|\n",
      "|2020-01-02 05:00:00|              null|                null|             61.42|                    1|   Queens|   Boro Zone|\n",
      "|2020-01-02 11:00:00|              null|                null| 82.77999999999999|                    4|Manhattan| Yellow Zone|\n",
      "|2020-01-02 12:00:00|              null|                null|159.72000000000003|                    6|Manhattan| Yellow Zone|\n",
      "|2020-01-02 15:00:00|176.26999999999998|                   4|             30.48|                    1|    Bronx|   Boro Zone|\n",
      "|2020-01-02 16:00:00|              49.9|                   2|              20.3|                    1| Brooklyn|   Boro Zone|\n",
      "|2020-01-02 18:00:00|            186.32|                   8|             47.69|                    1|   Queens|   Boro Zone|\n",
      "|2020-01-02 19:00:00|              null|                null| 1003.139999999999|                   59|Manhattan| Yellow Zone|\n",
      "+-------------------+------------------+--------------------+------------------+---------------------+---------+------------+\n",
      "only showing top 20 rows\n",
      "\n"
     ]
    }
   ],
   "source": [
    "df_result.drop('LocationID', 'zone').show()"
   ]
  },
  {
   "cell_type": "code",
   "execution_count": null,
   "id": "26eb71fd",
   "metadata": {},
   "outputs": [],
   "source": []
  }
 ],
 "metadata": {
  "kernelspec": {
   "display_name": "Python 3 (ipykernel)",
   "language": "python",
   "name": "python3"
  },
  "language_info": {
   "codemirror_mode": {
    "name": "ipython",
    "version": 3
   },
   "file_extension": ".py",
   "mimetype": "text/x-python",
   "name": "python",
   "nbconvert_exporter": "python",
   "pygments_lexer": "ipython3",
   "version": "3.10.4"
  }
 },
 "nbformat": 4,
 "nbformat_minor": 5
}
